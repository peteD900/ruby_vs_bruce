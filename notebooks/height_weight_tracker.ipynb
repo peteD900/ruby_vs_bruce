{
 "cells": [
  {
   "cell_type": "markdown",
   "id": "202d330f",
   "metadata": {},
   "source": [
    "# Ruby vs. Bruce\n",
    "\n",
    "Track height and weight of the kids."
   ]
  },
  {
   "cell_type": "code",
   "execution_count": null,
   "id": "ac397b73",
   "metadata": {},
   "outputs": [],
   "source": [
    "import pandas as pd\n",
    "import matplotlib.pyplot as plt\n",
    "import seaborn as sns\n",
    "import datetime as dt\n",
    "import make_data as mkd\n",
    "\n",
    "import plotly.express as px\n",
    "import plotly.io as pio\n",
    "pio.templates.default = \"none\"\n",
    "pio.renderers.default = 'iframe'  "
   ]
  },
  {
   "cell_type": "code",
   "execution_count": 2,
   "id": "8f07958d",
   "metadata": {},
   "outputs": [
    {
     "data": {
      "application/vnd.microsoft.datawrangler.viewer.v0+json": {
       "columns": [
        {
         "name": "index",
         "rawType": "int64",
         "type": "integer"
        },
        {
         "name": "name",
         "rawType": "object",
         "type": "string"
        },
        {
         "name": "date",
         "rawType": "datetime64[ns]",
         "type": "datetime"
        },
        {
         "name": "height_cm",
         "rawType": "float64",
         "type": "float"
        },
        {
         "name": "weight_grams",
         "rawType": "int64",
         "type": "integer"
        },
        {
         "name": "head_circ_cm",
         "rawType": "float64",
         "type": "float"
        },
        {
         "name": "birth_date",
         "rawType": "datetime64[ns]",
         "type": "datetime"
        },
        {
         "name": "age_days",
         "rawType": "int64",
         "type": "integer"
        },
        {
         "name": "weight_kg",
         "rawType": "float64",
         "type": "float"
        }
       ],
       "ref": "5806321b-7e93-4cc1-ade8-f0bf11e09255",
       "rows": [
        [
         "0",
         "Dad",
         "1987-02-28 00:00:00",
         "53.0",
         "4370",
         "36.5",
         "1987-02-28 00:00:00",
         "0",
         "4.37"
        ],
        [
         "1",
         "Dad",
         "1987-03-11 00:00:00",
         null,
         "3930",
         null,
         "1987-02-28 00:00:00",
         "11",
         "3.93"
        ],
        [
         "2",
         "Dad",
         "1987-03-18 00:00:00",
         null,
         "4210",
         null,
         "1987-02-28 00:00:00",
         "18",
         "4.21"
        ],
        [
         "3",
         "Dad",
         "1987-03-25 00:00:00",
         null,
         "4620",
         null,
         "1987-02-28 00:00:00",
         "25",
         "4.62"
        ],
        [
         "4",
         "Dad",
         "1987-04-01 00:00:00",
         null,
         "5050",
         null,
         "1987-02-28 00:00:00",
         "32",
         "5.05"
        ]
       ],
       "shape": {
        "columns": 8,
        "rows": 5
       }
      },
      "text/html": [
       "<div>\n",
       "<style scoped>\n",
       "    .dataframe tbody tr th:only-of-type {\n",
       "        vertical-align: middle;\n",
       "    }\n",
       "\n",
       "    .dataframe tbody tr th {\n",
       "        vertical-align: top;\n",
       "    }\n",
       "\n",
       "    .dataframe thead th {\n",
       "        text-align: right;\n",
       "    }\n",
       "</style>\n",
       "<table border=\"1\" class=\"dataframe\">\n",
       "  <thead>\n",
       "    <tr style=\"text-align: right;\">\n",
       "      <th></th>\n",
       "      <th>name</th>\n",
       "      <th>date</th>\n",
       "      <th>height_cm</th>\n",
       "      <th>weight_grams</th>\n",
       "      <th>head_circ_cm</th>\n",
       "      <th>birth_date</th>\n",
       "      <th>age_days</th>\n",
       "      <th>weight_kg</th>\n",
       "    </tr>\n",
       "  </thead>\n",
       "  <tbody>\n",
       "    <tr>\n",
       "      <th>0</th>\n",
       "      <td>Dad</td>\n",
       "      <td>1987-02-28</td>\n",
       "      <td>53.0</td>\n",
       "      <td>4370</td>\n",
       "      <td>36.5</td>\n",
       "      <td>1987-02-28</td>\n",
       "      <td>0</td>\n",
       "      <td>4.37</td>\n",
       "    </tr>\n",
       "    <tr>\n",
       "      <th>1</th>\n",
       "      <td>Dad</td>\n",
       "      <td>1987-03-11</td>\n",
       "      <td>NaN</td>\n",
       "      <td>3930</td>\n",
       "      <td>NaN</td>\n",
       "      <td>1987-02-28</td>\n",
       "      <td>11</td>\n",
       "      <td>3.93</td>\n",
       "    </tr>\n",
       "    <tr>\n",
       "      <th>2</th>\n",
       "      <td>Dad</td>\n",
       "      <td>1987-03-18</td>\n",
       "      <td>NaN</td>\n",
       "      <td>4210</td>\n",
       "      <td>NaN</td>\n",
       "      <td>1987-02-28</td>\n",
       "      <td>18</td>\n",
       "      <td>4.21</td>\n",
       "    </tr>\n",
       "    <tr>\n",
       "      <th>3</th>\n",
       "      <td>Dad</td>\n",
       "      <td>1987-03-25</td>\n",
       "      <td>NaN</td>\n",
       "      <td>4620</td>\n",
       "      <td>NaN</td>\n",
       "      <td>1987-02-28</td>\n",
       "      <td>25</td>\n",
       "      <td>4.62</td>\n",
       "    </tr>\n",
       "    <tr>\n",
       "      <th>4</th>\n",
       "      <td>Dad</td>\n",
       "      <td>1987-04-01</td>\n",
       "      <td>NaN</td>\n",
       "      <td>5050</td>\n",
       "      <td>NaN</td>\n",
       "      <td>1987-02-28</td>\n",
       "      <td>32</td>\n",
       "      <td>5.05</td>\n",
       "    </tr>\n",
       "  </tbody>\n",
       "</table>\n",
       "</div>"
      ],
      "text/plain": [
       "  name       date  height_cm  weight_grams  head_circ_cm birth_date  age_days  \\\n",
       "0  Dad 1987-02-28       53.0          4370          36.5 1987-02-28         0   \n",
       "1  Dad 1987-03-11        NaN          3930           NaN 1987-02-28        11   \n",
       "2  Dad 1987-03-18        NaN          4210           NaN 1987-02-28        18   \n",
       "3  Dad 1987-03-25        NaN          4620           NaN 1987-02-28        25   \n",
       "4  Dad 1987-04-01        NaN          5050           NaN 1987-02-28        32   \n",
       "\n",
       "   weight_kg  \n",
       "0       4.37  \n",
       "1       3.93  \n",
       "2       4.21  \n",
       "3       4.62  \n",
       "4       5.05  "
      ]
     },
     "execution_count": 2,
     "metadata": {},
     "output_type": "execute_result"
    }
   ],
   "source": [
    "data = mkd.load_all_data()\n",
    "\n",
    "df_m = data\n",
    "df_m[\"date\"] = pd.to_datetime(df_m[\"date\"], format = \"%d/%m/%Y\")\n",
    "\n",
    "df_m[\"birth_date\"] = df_m.groupby(\"name\")[\"date\"].transform(\"first\")\n",
    "df_m[\"age_days\"] = (df_m[\"date\"] - df_m[\"birth_date\"])\n",
    "df_m[\"age_days\"] = pd.to_numeric(df_m[\"age_days\"].dt.days)\n",
    "df_m[\"weight_kg\"] = df_m[\"weight_grams\"]/1000\n",
    "df_m.head()"
   ]
  },
  {
   "cell_type": "markdown",
   "id": "570c235e",
   "metadata": {},
   "source": [
    "## Weights"
   ]
  },
  {
   "cell_type": "code",
   "execution_count": null,
   "id": "92bfc828",
   "metadata": {},
   "outputs": [
    {
     "data": {
      "application/vnd.plotly.v1+json": {
       "config": {
        "plotlyServerURL": "https://plot.ly"
       },
       "data": [
        {
         "customdata": [
          [
           "Dad"
          ],
          [
           "Dad"
          ],
          [
           "Dad"
          ],
          [
           "Dad"
          ],
          [
           "Dad"
          ],
          [
           "Dad"
          ],
          [
           "Dad"
          ],
          [
           "Dad"
          ],
          [
           "Dad"
          ],
          [
           "Dad"
          ],
          [
           "Dad"
          ],
          [
           "Dad"
          ],
          [
           "Dad"
          ],
          [
           "Dad"
          ]
         ],
         "hovertemplate": "<b>%{hovertext}</b><br><br>Age (days)=%{x}<br>Weight (kg)=%{y}<extra></extra>",
         "hovertext": [
          "Dad",
          "Dad",
          "Dad",
          "Dad",
          "Dad",
          "Dad",
          "Dad",
          "Dad",
          "Dad",
          "Dad",
          "Dad",
          "Dad",
          "Dad",
          "Dad"
         ],
         "legendgroup": "Dad",
         "line": {
          "color": "#1F77B4",
          "dash": "solid"
         },
         "marker": {
          "symbol": "circle"
         },
         "mode": "lines+markers",
         "name": "Dad",
         "orientation": "v",
         "showlegend": true,
         "type": "scatter",
         "x": {
          "bdata": "AAALABIAGQAgACcALgA8AEoAWABmAIIAswAOAQ==",
          "dtype": "i2"
         },
         "xaxis": "x",
         "y": {
          "bdata": "exSuR+F6EUBxPQrXo3APQNejcD0K1xBAexSuR+F6EkAzMzMzMzMUQFyPwvUoXBVAw/UoXI/CFkBSuB6F61EYQIXrUbgehRpAmpmZmZmZHEAUrkfhehQeQArXo3A9iiBAMzMzMzMzIkBmZmZmZmYlQA==",
          "dtype": "f8"
         },
         "yaxis": "y"
        },
        {
         "customdata": [
          [
           "Ruby"
          ],
          [
           "Ruby"
          ],
          [
           "Ruby"
          ],
          [
           "Ruby"
          ],
          [
           "Ruby"
          ],
          [
           "Ruby"
          ],
          [
           "Ruby"
          ],
          [
           "Ruby"
          ],
          [
           "Ruby"
          ],
          [
           "Ruby"
          ],
          [
           "Ruby"
          ],
          [
           "Ruby"
          ],
          [
           "Ruby"
          ]
         ],
         "hovertemplate": "<b>%{hovertext}</b><br><br>Age (days)=%{x}<br>Weight (kg)=%{y}<extra></extra>",
         "hovertext": [
          "Ruby",
          "Ruby",
          "Ruby",
          "Ruby",
          "Ruby",
          "Ruby",
          "Ruby",
          "Ruby",
          "Ruby",
          "Ruby",
          "Ruby",
          "Ruby",
          "Ruby"
         ],
         "legendgroup": "Ruby",
         "line": {
          "color": "#FF7F0E",
          "dash": "solid"
         },
         "marker": {
          "symbol": "circle"
         },
         "mode": "lines+markers",
         "name": "Ruby",
         "orientation": "v",
         "showlegend": true,
         "type": "scatter",
         "x": {
          "bdata": "AAABAAkAJQA6AF0AgACqAPcARwHQATkC0wI=",
          "dtype": "i2"
         },
         "xaxis": "x",
         "y": {
          "bdata": "BoGVQ4tsCUBmZmZmZmYIQHE9CtejcAlArkfhehSuD0DNzMzMzMwRQK5H4XoUrhRACtejcD0KF0BmZmZmZmYYQHsUrkfh+hpAMzMzMzMzHkAAAAAAAAAiQEjhehSuRyNAmpmZmZkZJUA=",
          "dtype": "f8"
         },
         "yaxis": "y"
        },
        {
         "customdata": [
          [
           "Bruce"
          ],
          [
           "Bruce"
          ],
          [
           "Bruce"
          ],
          [
           "Bruce"
          ]
         ],
         "hovertemplate": "<b>%{hovertext}</b><br><br>Age (days)=%{x}<br>Weight (kg)=%{y}<extra></extra>",
         "hovertext": [
          "Bruce",
          "Bruce",
          "Bruce",
          "Bruce"
         ],
         "legendgroup": "Bruce",
         "line": {
          "color": "#2CA02C",
          "dash": "solid"
         },
         "marker": {
          "symbol": "circle"
         },
         "mode": "lines+markers",
         "name": "Bruce",
         "orientation": "v",
         "showlegend": true,
         "type": "scatter",
         "x": {
          "bdata": "AAYLEg==",
          "dtype": "i1"
         },
         "xaxis": "x",
         "y": {
          "bdata": "kxgEVg4tDEAAAAAAAAAKQArXo3A9CgtApHA9CtejDEA=",
          "dtype": "f8"
         },
         "yaxis": "y"
        }
       ],
       "layout": {
        "height": 500,
        "legend": {
         "title": {
          "text": "name"
         },
         "tracegroupgap": 0
        },
        "template": {
         "data": {
          "scatter": [
           {
            "type": "scatter"
           }
          ]
         }
        },
        "title": {
         "font": {
          "size": 20
         },
         "text": "Weight vs. age tracker",
         "x": 0.5
        },
        "width": 800,
        "xaxis": {
         "anchor": "y",
         "domain": [
          0,
          1
         ],
         "title": {
          "text": "Age (days)"
         }
        },
        "yaxis": {
         "anchor": "x",
         "domain": [
          0,
          1
         ],
         "title": {
          "text": "Weight (kg)"
         }
        }
       }
      }
     },
     "metadata": {},
     "output_type": "display_data"
    }
   ],
   "source": [
    "\n",
    "\n",
    "fig = px.line(\n",
    "    data_frame=df_m, x=\"age_days\", y = \"weight_kg\", color = \"name\", markers=True,\n",
    "    width = 800, height=500,\n",
    "    labels={\"weight_kg\": \"Weight (kg)\", \"age_days\":\"Age (days)\"},\n",
    "    title=\"Weight vs. age tracker\",\n",
    "    hover_name=\"name\",\n",
    "    hover_data={\"name\": False}\n",
    "\n",
    ")\n",
    "fig.update_layout(\n",
    "    title_font_size = 20, \n",
    "    title_x = 0.5    \n",
    ")\n",
    "fig.show()\n",
    "\n"
   ]
  },
  {
   "cell_type": "markdown",
   "id": "a506ca90",
   "metadata": {},
   "source": [
    "## Heights"
   ]
  },
  {
   "cell_type": "code",
   "execution_count": 4,
   "id": "52321e68",
   "metadata": {},
   "outputs": [
    {
     "data": {
      "application/vnd.plotly.v1+json": {
       "config": {
        "plotlyServerURL": "https://plot.ly"
       },
       "data": [
        {
         "customdata": [
          [
           "Dad"
          ],
          [
           "Dad"
          ],
          [
           "Dad"
          ],
          [
           "Dad"
          ],
          [
           "Dad"
          ],
          [
           "Dad"
          ],
          [
           "Dad"
          ],
          [
           "Dad"
          ],
          [
           "Dad"
          ],
          [
           "Dad"
          ],
          [
           "Dad"
          ],
          [
           "Dad"
          ],
          [
           "Dad"
          ],
          [
           "Dad"
          ]
         ],
         "hovertemplate": "<b>%{hovertext}</b><br><br>Age (days)=%{x}<br>Height (cm)=%{y}<extra></extra>",
         "hovertext": [
          "Dad",
          "Dad",
          "Dad",
          "Dad",
          "Dad",
          "Dad",
          "Dad",
          "Dad",
          "Dad",
          "Dad",
          "Dad",
          "Dad",
          "Dad",
          "Dad"
         ],
         "legendgroup": "Dad",
         "line": {
          "color": "#1F77B4",
          "dash": "solid"
         },
         "marker": {
          "symbol": "circle"
         },
         "mode": "lines+markers",
         "name": "Dad",
         "orientation": "v",
         "showlegend": true,
         "type": "scatter",
         "x": {
          "bdata": "AAALABIAGQAgACcALgA8AEoAWABmAIIAswAOAQ==",
          "dtype": "i2"
         },
         "xaxis": "x",
         "y": {
          "bdata": "AAAAAACASkAAAAAAAAD4fwAAAAAAAPh/AAAAAAAA+H8AAAAAAAD4fwAAAAAAAPh/AAAAAAAA+H8AAAAAAAD4fwAAAAAAAPh/AAAAAAAA+H8AAAAAAAD4fwAAAAAAAPh/AAAAAAAA+H8AAAAAAAD4fw==",
          "dtype": "f8"
         },
         "yaxis": "y"
        },
        {
         "customdata": [
          [
           "Ruby"
          ],
          [
           "Ruby"
          ],
          [
           "Ruby"
          ],
          [
           "Ruby"
          ],
          [
           "Ruby"
          ],
          [
           "Ruby"
          ],
          [
           "Ruby"
          ],
          [
           "Ruby"
          ],
          [
           "Ruby"
          ],
          [
           "Ruby"
          ],
          [
           "Ruby"
          ],
          [
           "Ruby"
          ],
          [
           "Ruby"
          ]
         ],
         "hovertemplate": "<b>%{hovertext}</b><br><br>Age (days)=%{x}<br>Height (cm)=%{y}<extra></extra>",
         "hovertext": [
          "Ruby",
          "Ruby",
          "Ruby",
          "Ruby",
          "Ruby",
          "Ruby",
          "Ruby",
          "Ruby",
          "Ruby",
          "Ruby",
          "Ruby",
          "Ruby",
          "Ruby"
         ],
         "legendgroup": "Ruby",
         "line": {
          "color": "#FF7F0E",
          "dash": "solid"
         },
         "marker": {
          "symbol": "circle"
         },
         "mode": "lines+markers",
         "name": "Ruby",
         "orientation": "v",
         "showlegend": true,
         "type": "scatter",
         "x": {
          "bdata": "AAABAAkAJQA6AF0AgACqAPcARwHQATkC0wI=",
          "dtype": "i2"
         },
         "xaxis": "x",
         "y": {
          "bdata": "AAAAAAAA+H8AAAAAAAD4fwAAAAAAAPh/AAAAAABAS0AAAAAAAABMQAAAAAAAAE5AAAAAAACAT0AAAAAAAEBQQAAAAAAAQFFAAAAAAABAUkAAAAAAAMBTQAAAAAAAAFVAAAAAAADAVUA=",
          "dtype": "f8"
         },
         "yaxis": "y"
        },
        {
         "customdata": [
          [
           "Bruce"
          ],
          [
           "Bruce"
          ],
          [
           "Bruce"
          ],
          [
           "Bruce"
          ]
         ],
         "hovertemplate": "<b>%{hovertext}</b><br><br>Age (days)=%{x}<br>Height (cm)=%{y}<extra></extra>",
         "hovertext": [
          "Bruce",
          "Bruce",
          "Bruce",
          "Bruce"
         ],
         "legendgroup": "Bruce",
         "line": {
          "color": "#2CA02C",
          "dash": "solid"
         },
         "marker": {
          "symbol": "circle"
         },
         "mode": "lines+markers",
         "name": "Bruce",
         "orientation": "v",
         "showlegend": true,
         "type": "scatter",
         "x": {
          "bdata": "AAYLEg==",
          "dtype": "i1"
         },
         "xaxis": "x",
         "y": {
          "bdata": "AAAAAACASUAAAAAAAAD4fwAAAAAAAPh/AAAAAAAAS0A=",
          "dtype": "f8"
         },
         "yaxis": "y"
        }
       ],
       "layout": {
        "height": 500,
        "legend": {
         "title": {
          "text": "name"
         },
         "tracegroupgap": 0
        },
        "template": {
         "data": {
          "scatter": [
           {
            "type": "scatter"
           }
          ]
         }
        },
        "title": {
         "font": {
          "size": 20
         },
         "text": "Height vs. age tracker",
         "x": 0.5
        },
        "width": 800,
        "xaxis": {
         "anchor": "y",
         "domain": [
          0,
          1
         ],
         "title": {
          "text": "Age (days)"
         }
        },
        "yaxis": {
         "anchor": "x",
         "domain": [
          0,
          1
         ],
         "title": {
          "text": "Height (cm)"
         }
        }
       }
      }
     },
     "metadata": {},
     "output_type": "display_data"
    }
   ],
   "source": [
    "fig = px.line(\n",
    "    data_frame=df_m, x=\"age_days\", y = \"height_cm\", color = \"name\", markers=True,\n",
    "    width = 800, height=500,\n",
    "    labels={\"height_cm\": \"Height (cm)\", \"age_days\":\"Age (days)\"},\n",
    "    title=\"Height vs. age tracker\",\n",
    "    hover_name=\"name\",\n",
    "    hover_data={\"name\": False}\n",
    "\n",
    ")\n",
    "fig.update_layout(\n",
    "    title_font_size = 20, \n",
    "    title_x = 0.5    \n",
    ")\n",
    "fig.show()"
   ]
  }
 ],
 "metadata": {
  "kernelspec": {
   "display_name": ".venv",
   "language": "python",
   "name": "python3"
  },
  "language_info": {
   "codemirror_mode": {
    "name": "ipython",
    "version": 3
   },
   "file_extension": ".py",
   "mimetype": "text/x-python",
   "name": "python",
   "nbconvert_exporter": "python",
   "pygments_lexer": "ipython3",
   "version": "3.12.3"
  }
 },
 "nbformat": 4,
 "nbformat_minor": 5
}
